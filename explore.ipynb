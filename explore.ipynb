{
 "metadata": {
  "language_info": {
   "codemirror_mode": {
    "name": "ipython",
    "version": 3
   },
   "file_extension": ".py",
   "mimetype": "text/x-python",
   "name": "python",
   "nbconvert_exporter": "python",
   "pygments_lexer": "ipython3",
   "version": "3.7.6"
  },
  "orig_nbformat": 2,
  "kernelspec": {
   "name": "python376jvsc74a57bd020cce1a361a43238616318cc0a2a54c46c265437155332cb6a4b235bb029ac3b",
   "display_name": "Python 3.7.6 64-bit ('ml': conda)"
  }
 },
 "nbformat": 4,
 "nbformat_minor": 2,
 "cells": [
  {
   "cell_type": "code",
   "execution_count": 8,
   "metadata": {},
   "outputs": [
    {
     "output_type": "execute_result",
     "data": {
      "text/plain": [
       "  fixed acidity;\"volatile acidity\";\"citric acid\";\"residual sugar\";\"chlorides\";\"free sulfur dioxide\";\"total sulfur dioxide\";\"density\";\"pH\";\"sulphates\";\"alcohol\";\"quality\"\n",
       "0   7.4;0.7;0;1.9;0.076;11;34;0.9978;3.51;0.56;9.4;5                                                                                                                     \n",
       "1   7.8;0.88;0;2.6;0.098;25;67;0.9968;3.2;0.68;9.8;5                                                                                                                     \n",
       "2  7.8;0.76;0.04;2.3;0.092;15;54;0.997;3.26;0.65;...                                                                                                                     \n",
       "3  11.2;0.28;0.56;1.9;0.075;17;60;0.998;3.16;0.58...                                                                                                                     \n",
       "4   7.4;0.7;0;1.9;0.076;11;34;0.9978;3.51;0.56;9.4;5                                                                                                                     \n",
       "5  7.4;0.66;0;1.8;0.075;13;40;0.9978;3.51;0.56;9.4;5                                                                                                                     \n",
       "6  7.9;0.6;0.06;1.6;0.069;15;59;0.9964;3.3;0.46;9...                                                                                                                     \n",
       "7   7.3;0.65;0;1.2;0.065;15;21;0.9946;3.39;0.47;10;7                                                                                                                     \n",
       "8  7.8;0.58;0.02;2;0.073;9;18;0.9968;3.36;0.57;9.5;7                                                                                                                     \n",
       "9  7.5;0.5;0.36;6.1;0.071;17;102;0.9978;3.35;0.8;...                                                                                                                     "
      ],
      "text/html": "<div>\n<style scoped>\n    .dataframe tbody tr th:only-of-type {\n        vertical-align: middle;\n    }\n\n    .dataframe tbody tr th {\n        vertical-align: top;\n    }\n\n    .dataframe thead th {\n        text-align: right;\n    }\n</style>\n<table border=\"1\" class=\"dataframe\">\n  <thead>\n    <tr style=\"text-align: right;\">\n      <th></th>\n      <th>fixed acidity;\"volatile acidity\";\"citric acid\";\"residual sugar\";\"chlorides\";\"free sulfur dioxide\";\"total sulfur dioxide\";\"density\";\"pH\";\"sulphates\";\"alcohol\";\"quality\"</th>\n    </tr>\n  </thead>\n  <tbody>\n    <tr>\n      <th>0</th>\n      <td>7.4;0.7;0;1.9;0.076;11;34;0.9978;3.51;0.56;9.4;5</td>\n    </tr>\n    <tr>\n      <th>1</th>\n      <td>7.8;0.88;0;2.6;0.098;25;67;0.9968;3.2;0.68;9.8;5</td>\n    </tr>\n    <tr>\n      <th>2</th>\n      <td>7.8;0.76;0.04;2.3;0.092;15;54;0.997;3.26;0.65;...</td>\n    </tr>\n    <tr>\n      <th>3</th>\n      <td>11.2;0.28;0.56;1.9;0.075;17;60;0.998;3.16;0.58...</td>\n    </tr>\n    <tr>\n      <th>4</th>\n      <td>7.4;0.7;0;1.9;0.076;11;34;0.9978;3.51;0.56;9.4;5</td>\n    </tr>\n    <tr>\n      <th>5</th>\n      <td>7.4;0.66;0;1.8;0.075;13;40;0.9978;3.51;0.56;9.4;5</td>\n    </tr>\n    <tr>\n      <th>6</th>\n      <td>7.9;0.6;0.06;1.6;0.069;15;59;0.9964;3.3;0.46;9...</td>\n    </tr>\n    <tr>\n      <th>7</th>\n      <td>7.3;0.65;0;1.2;0.065;15;21;0.9946;3.39;0.47;10;7</td>\n    </tr>\n    <tr>\n      <th>8</th>\n      <td>7.8;0.58;0.02;2;0.073;9;18;0.9968;3.36;0.57;9.5;7</td>\n    </tr>\n    <tr>\n      <th>9</th>\n      <td>7.5;0.5;0.36;6.1;0.071;17;102;0.9978;3.35;0.8;...</td>\n    </tr>\n  </tbody>\n</table>\n</div>"
     },
     "metadata": {},
     "execution_count": 8
    }
   ],
   "source": [
    "import pandas as pd\n",
    "df = pd.read_csv(\"winequality-red.csv\")\n",
    "df.head(10)\n"
   ]
  },
  {
   "cell_type": "code",
   "execution_count": null,
   "metadata": {},
   "outputs": [],
   "source": [
    "quality_mapping ={\n",
    "    4:0,\n",
    "    5:1,\n",
    "    6:2,\n",
    "    3:3,\n",
    "    7:4,\n",
    "    8:5\n",
    "}\n",
    "\n",
    "df.loc[:,\"quality\"] = df.quality.map(quality_mapping)\n",
    "\n",
    "df = df.sample(frac=1).reset_index(drop=True)\n",
    "\n",
    "df_train = df.head(1000)\n",
    "df_test = df.tail(599)"
   ]
  },
  {
   "cell_type": "code",
   "execution_count": null,
   "metadata": {},
   "outputs": [],
   "source": []
  },
  {
   "cell_type": "code",
   "execution_count": null,
   "metadata": {},
   "outputs": [],
   "source": []
  }
 ]
}